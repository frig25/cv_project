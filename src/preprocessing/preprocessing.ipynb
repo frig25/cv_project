{
 "cells": [
  {
   "cell_type": "code",
   "execution_count": 7,
   "id": "f3d14214",
   "metadata": {},
   "outputs": [
    {
     "name": "stdout",
     "output_type": "stream",
     "text": [
      "The autoreload extension is already loaded. To reload it, use:\n",
      "  %reload_ext autoreload\n"
     ]
    }
   ],
   "source": [
    "%load_ext autoreload\n",
    "%autoreload 2"
   ]
  },
  {
   "cell_type": "code",
   "execution_count": 8,
   "id": "dad59661",
   "metadata": {},
   "outputs": [],
   "source": [
    "from ipywidgets import FloatProgress, Layout\n",
    "from IPython.display import display\n",
    "import micasense.imageset as imageset\n",
    "import micasense.capture as capture\n",
    "import os, glob\n",
    "import multiprocessing\n",
    "\n",
    "panelNames = None\n",
    "useDLS = True\n",
    "\n",
    "imagePath = './data/input/captures'\n",
    "panelPath = './data//input/panel'\n",
    "panelNames = glob.glob(os.path.join(panelPath,'IMG_0000_*.tif'))\n",
    "\n",
    "outputPath = './data//output/stacks'\n",
    "if not os.path.exists(outputPath):\n",
    "    os.makedirs(outputPath)\n",
    "thumbnailPath = './data//output/rgb'\n",
    "if not os.path.exists(thumbnailPath):\n",
    "    os.makedirs(thumbnailPath)\n",
    "\n",
    "overwrite = False # Set to False to continue interrupted processing\n",
    "generateThumbnails = True\n",
    "\n",
    "# Allow this code to align both radiance and reflectance images; bu excluding\n",
    "# a definition for panelNames above, radiance images will be used\n",
    "# For panel images, efforts will be made to automatically extract the panel information\n",
    "# but if the panel/firmware is before Altum 1.3.5, RedEdge 5.1.7 the panel reflectance\n",
    "# will need to be set in the panel_reflectance_by_band variable.\n",
    "# Note: radiance images will not be used to properly create NDVI/NDRE images below.\n",
    "if panelNames is not None:\n",
    "    panelCap = capture.Capture.from_filelist(panelNames)\n",
    "else:\n",
    "    panelCap = None\n",
    "\n",
    "if panelCap is not None:\n",
    "    if panelCap.panel_albedo() is not None:\n",
    "        panel_reflectance_by_band = panelCap.panel_albedo()\n",
    "    else:\n",
    "        panel_reflectance_by_band = [0.65]*len(panelCap.images) #inexact, but quick\n",
    "    panel_irradiance = panelCap.panel_irradiance(panel_reflectance_by_band)\n",
    "    img_type = \"reflectance\"\n",
    "else:\n",
    "    if useDLS:\n",
    "        img_type='reflectance'\n",
    "    else:\n",
    "        img_type = \"radiance\"\n"
   ]
  },
  {
   "cell_type": "code",
   "execution_count": 9,
   "id": "87185a62",
   "metadata": {},
   "outputs": [
    {
     "data": {
      "application/vnd.jupyter.widget-view+json": {
       "model_id": "3435ad38092d4f71af162c2baff135b0",
       "version_major": 2,
       "version_minor": 0
      },
      "text/plain": [
       "FloatProgress(value=0.0, description='Loading', layout=Layout(width='100%'), max=1.0)"
      ]
     },
     "metadata": {},
     "output_type": "display_data"
    },
    {
     "name": "stdout",
     "output_type": "stream",
     "text": [
      "CPU times: user 491 ms, sys: 37.8 ms, total: 529 ms\n",
      "Wall time: 2.66 s\n"
     ]
    }
   ],
   "source": [
    "## This progress widget is used for display of the long-running process\n",
    "f = FloatProgress(min=0, max=1, layout=Layout(width='100%'), description=\"Loading\")\n",
    "display(f)\n",
    "def update_f(val):\n",
    "    if (val - f.value) > 0.005 or val == 1: #reduces cpu usage from updating the progressbar by 10x\n",
    "        f.value=val\n",
    "\n",
    "%time imgset = imageset.ImageSet.from_directory(imagePath, progress_callback=update_f)\n",
    "update_f(1.0)"
   ]
  },
  {
   "cell_type": "code",
   "execution_count": 10,
   "id": "5ec9bcad",
   "metadata": {},
   "outputs": [
    {
     "name": "stdout",
     "output_type": "stream",
     "text": [
      "Alinging images. Depending on settings this can take from a few seconds to many minutes\n",
      "Finished aligning band 4\n",
      "Finished aligning band 2\n",
      "Finished aligning band 3\n",
      "Finished aligning band 1\n",
      "Finished aligning band 6\n",
      "Finished aligning band 8\n",
      "Finished aligning band 9\n",
      "Finished aligning band 7\n",
      "Finished aligning band 0\n",
      "Finished aligning band 5\n",
      "Finished Aligning, warp matrices=[array([[ 1.0040864e+00, -7.4430788e-03, -3.3286095e+01],\n",
      "       [ 7.0750872e-03,  1.0027938e+00, -7.7721471e-01],\n",
      "       [ 1.1506276e-06, -1.8202343e-06,  1.0000000e+00]], dtype=float32), array([[ 1.0003500e+00, -2.1300591e-03, -2.2057552e+01],\n",
      "       [ 1.0440277e-03,  1.0018458e+00, -5.8781284e-01],\n",
      "       [-2.2985755e-06, -2.5595128e-07,  1.0000000e+00]], dtype=float32), array([[ 9.9591613e-01, -5.0186333e-03, -1.6835062e+01],\n",
      "       [ 3.8949682e-03,  9.9798226e-01,  1.2554541e+01],\n",
      "       [-2.5367942e-06,  1.2353189e-07,  1.0000000e+00]], dtype=float32), array([[ 1.0020077e+00, -8.0345459e-03, -1.1813504e+01],\n",
      "       [ 8.3570331e-03,  1.0008401e+00, -1.9873276e+00],\n",
      "       [ 1.5562066e-06, -3.4415183e-07,  1.0000000e+00]], dtype=float32), array([[ 1.0000000e+00, -1.8175156e-19,  9.0844741e-15],\n",
      "       [-2.3938209e-19,  1.0000000e+00,  1.3744840e-14],\n",
      "       [-1.1929617e-22,  8.3016172e-25,  1.0000000e+00]], dtype=float32), array([[ 9.9526441e-01, -7.1724076e-03, -2.0148909e+01],\n",
      "       [-1.0543589e-03,  9.8561722e-01,  4.7458851e+01],\n",
      "       [ 1.3965456e-06, -1.3823932e-05,  1.0000000e+00]], dtype=float32), array([[ 9.8903513e-01, -9.3057714e-03, -2.6939512e+01],\n",
      "       [ 1.5326006e-03,  9.8180354e-01,  3.8709381e+01],\n",
      "       [ 5.4444041e-07, -1.3174664e-05,  1.0000000e+00]], dtype=float32), array([[ 9.8747838e-01, -4.3390761e-03, -9.4248714e+00],\n",
      "       [-4.9222773e-03,  9.7984880e-01,  3.4153214e+01],\n",
      "       [-1.0250890e-06, -1.3884678e-05,  1.0000000e+00]], dtype=float32), array([[ 9.8760033e-01, -1.1012454e-02, -1.2970678e+01],\n",
      "       [ 5.4627872e-04,  9.7818899e-01,  3.1334995e+01],\n",
      "       [ 5.9188909e-07, -1.6302074e-05,  1.0000000e+00]], dtype=float32), array([[ 9.9422914e-01, -1.0150958e-02, -2.5731176e+01],\n",
      "       [ 1.1910425e-03,  9.8535055e-01,  2.6669975e+01],\n",
      "       [ 8.8820792e-07, -1.4722002e-05,  1.0000000e+00]], dtype=float32)]\n"
     ]
    }
   ],
   "source": [
    "import cv2\n",
    "import numpy as np\n",
    "import matplotlib.pyplot as plt\n",
    "import micasense.imageutils as imageutils\n",
    "import micasense.plotutils as plotutils\n",
    "\n",
    "alignment_img = glob.glob(os.path.join(imagePath,'IMG_0036_*.tif'))\n",
    "cpt = capture.Capture.from_filelist(alignment_img)\n",
    "\n",
    "## Alignment settings\n",
    "match_index = 4 # Index of the band, here we use green\n",
    "max_alignment_iterations = 20\n",
    "warp_mode = cv2.MOTION_HOMOGRAPHY # MOTION_HOMOGRAPHY or MOTION_AFFINE. For Altum images only use HOMOGRAPHY\n",
    "pyramid_levels = 3 # for 10-band imagery we use a 3-level pyramid. In some cases\n",
    "\n",
    "print(\"Alinging images. Depending on settings this can take from a few seconds to many minutes\")\n",
    "# Can potentially increase max_iterations for better results, but longer runtimes\n",
    "warp_matrices, alignment_pairs = imageutils.align_capture(cpt,\n",
    "                                                          ref_index = match_index,\n",
    "                                                          max_iterations = max_alignment_iterations,\n",
    "                                                          warp_mode = warp_mode,\n",
    "                                                          pyramid_levels = pyramid_levels)\n",
    "\n",
    "print(\"Finished Aligning, warp matrices={}\".format(warp_matrices))"
   ]
  },
  {
   "cell_type": "code",
   "execution_count": 12,
   "id": "0b950af9",
   "metadata": {},
   "outputs": [
    {
     "data": {
      "application/vnd.jupyter.widget-view+json": {
       "model_id": "87d7505c882a449aae136869ed3ba9b8",
       "version_major": 2,
       "version_minor": 0
      },
      "text/plain": [
       "FloatProgress(value=0.0, description='Saving', layout=Layout(width='100%'), max=1.0)"
      ]
     },
     "metadata": {},
     "output_type": "display_data"
    },
    {
     "name": "stdout",
     "output_type": "stream",
     "text": [
      "Saving time: 0:00:36.452745\n",
      "Alignment+Saving rate: 0.93 captures per second\n"
     ]
    }
   ],
   "source": [
    "import exiftool\n",
    "import datetime\n",
    "\n",
    "use_multi_process = True # set to False for single-process saving\n",
    "overwrite_existing = False # skip existing files, set to True to overwrite\n",
    "\n",
    "## This progress widget is used for display of the long-running process\n",
    "f2 = FloatProgress(min=0, max=1, layout=Layout(width='100%'), description=\"Saving\")\n",
    "display(f2)\n",
    "def update_f2(val):\n",
    "    f2.value=val\n",
    "\n",
    "if not os.path.exists(outputPath):\n",
    "    os.makedirs(outputPath)\n",
    "if generateThumbnails and not os.path.exists(thumbnailPath):\n",
    "    os.makedirs(thumbnailPath)\n",
    "\n",
    "# Save out geojson data so we can open the image capture locations in our GIS\n",
    "#with open(os.path.join(outputPath,'imageSet.json'),'w') as f:\n",
    "#    f.write(str(geojson_data))\n",
    "\n",
    "# If we didn't provide a panel above, irradiance set to None will cause DLS data to be used\n",
    "try:\n",
    "    irradiance = panel_irradiance+[0]\n",
    "except NameError:\n",
    "    irradiance = None\n",
    "\n",
    "start_time = datetime.datetime.now()\n",
    "\n",
    "# Save all captures in the imageset as aligned stacks\n",
    "imgset.save_stacks(warp_matrices,\n",
    "                     outputPath,\n",
    "                     thumbnailPath,\n",
    "                     irradiance = irradiance,\n",
    "                     multiprocess=use_multi_process, \n",
    "                     overwrite=overwrite_existing, \n",
    "                     progress_callback=update_f2)\n",
    "\n",
    "end_time = datetime.datetime.now()\n",
    "update_f2(1.0)\n",
    "\n",
    "print(\"Saving time: {}\".format(end_time-start_time))\n",
    "print(\"Alignment+Saving rate: {:.2f} captures per second\".format(float(len(imgset.captures))/float((end_time-start_time).total_seconds())))\n",
    "\n"
   ]
  },
  {
   "cell_type": "code",
   "execution_count": 13,
   "id": "dc409f41",
   "metadata": {},
   "outputs": [],
   "source": [
    "# Rename stacks and rgb files\n",
    "for c in imgset.captures:\n",
    "    for path, suffix in zip((outputPath, thumbnailPath), ('.tif', '_rgb.jpg')):\n",
    "        old = f'{path}/{c.uuid}{suffix}'\n",
    "        if os.path.exists(old):\n",
    "            new = f'{path}/{c.images[0].meta.get_item(\"File:FileName\")[:8]}{suffix}'\n",
    "            os.rename(old, new)"
   ]
  },
  {
   "cell_type": "code",
   "execution_count": null,
   "id": "f7f24bce",
   "metadata": {},
   "outputs": [],
   "source": []
  }
 ],
 "metadata": {
  "kernelspec": {
   "display_name": "Python [conda env:.conda-micasense] *",
   "language": "python",
   "name": "conda-env-.conda-micasense-py"
  },
  "language_info": {
   "codemirror_mode": {
    "name": "ipython",
    "version": 3
   },
   "file_extension": ".py",
   "mimetype": "text/x-python",
   "name": "python",
   "nbconvert_exporter": "python",
   "pygments_lexer": "ipython3",
   "version": "3.8.20"
  }
 },
 "nbformat": 4,
 "nbformat_minor": 5
}
